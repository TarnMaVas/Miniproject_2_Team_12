{
 "cells": [
  {
   "cell_type": "code",
   "execution_count": 2,
   "metadata": {},
   "outputs": [],
   "source": [
    "import time\n",
    "import tracemalloc"
   ]
  },
  {
   "cell_type": "markdown",
   "metadata": {},
   "source": [
    "# Time Measurement"
   ]
  },
  {
   "cell_type": "markdown",
   "metadata": {},
   "source": [
    "Initial solution"
   ]
  },
  {
   "cell_type": "code",
   "execution_count": 75,
   "metadata": {},
   "outputs": [
    {
     "name": "stdout",
     "output_type": "stream",
     "text": [
      "0.013950586318969727\n"
     ]
    },
    {
     "data": {
      "text/plain": [
       "'\\nResults:\\n    1 board:\\n        0.014737129211425781\\n        0.0152740478515625\\n        0.01544046401977539\\n        0.016042709350585938\\n        0.015568733215332031\\n    2 boards:\\n        0.0324854850769043\\n        0.02798175811767578\\n        0.02819085121154785\\n    10 boards:\\n        0.13289928436279297\\n        0.1393883228302002\\n        0.14920473098754883\\n        0.14388561248779297\\n    100 boards:\\n        1.3554160594940186\\n        1.3143031597137451\\n\\n'"
      ]
     },
     "execution_count": 75,
     "metadata": {},
     "output_type": "execute_result"
    }
   ],
   "source": [
    "\n",
    "import initial_solution\n",
    "\n",
    "test = 0\n",
    "\n",
    "for _ in range(100):\n",
    "\n",
    "    start = time.time()\n",
    "\n",
    "    initial_solution.board_generation()\n",
    "    initial_solution.board_generation()\n",
    "    initial_solution.board_generation()\n",
    "    initial_solution.board_generation()\n",
    "    initial_solution.board_generation()\n",
    "    initial_solution.board_generation()\n",
    "    initial_solution.board_generation()\n",
    "    initial_solution.board_generation()\n",
    "    initial_solution.board_generation()\n",
    "    initial_solution.board_generation()\n",
    "\n",
    "\n",
    "    test += time.time() - start\n",
    "\n",
    "print(test)\n",
    "\n"
   ]
  },
  {
   "cell_type": "markdown",
   "metadata": {},
   "source": [
    "Results:\n",
    "\n",
    "    1 board:\n",
    "        0.014737129211425781\n",
    "        0.0152740478515625\n",
    "        0.01544046401977539\n",
    "        0.016042709350585938\n",
    "        0.015568733215332031\n",
    "    2 boards:\n",
    "        0.0324854850769043\n",
    "        0.02798175811767578\n",
    "        0.02819085121154785\n",
    "    10 boards:\n",
    "        0.13289928436279297\n",
    "        0.1393883228302002\n",
    "        0.14920473098754883\n",
    "        0.14388561248779297\n",
    "    100 boards:\n",
    "        1.3554160594940186\n",
    "        1.3143031597137451"
   ]
  },
  {
   "cell_type": "markdown",
   "metadata": {},
   "source": [
    "AI solution"
   ]
  },
  {
   "cell_type": "code",
   "execution_count": 70,
   "metadata": {},
   "outputs": [
    {
     "name": "stdout",
     "output_type": "stream",
     "text": [
      "0.01638054847717285\n"
     ]
    },
    {
     "data": {
      "text/plain": [
       "'\\nResults:\\n    1 board:\\n        0.01520538330078125\\n        0.015534162521362305\\n        0.015062332153320312\\n        0.015755653381347656\\n        0.014878034591674805\\n    2 boards:\\n        0.02589130401611328\\n        0.02821946144104004\\n        0.02628302574157715\\n        0.029273033142089844\\n        0.02648138999938965\\n        0.03173327445983887\\n    10 boards:\\n        0.1285572052001953\\n        0.13258671760559082\\n        0.1498093605041504\\n        0.1460113525390625\\n        0.14448976516723633\\n    100 boards:\\n        1.3102154731750488\\n        1.3037786483764648\\n        1.3114650249481201\\n        1.2840576171875\\n        1.3036134243011475\\n        1.300112247467041\\n\\n'"
      ]
     },
     "execution_count": 70,
     "metadata": {},
     "output_type": "execute_result"
    }
   ],
   "source": [
    "import ai_code\n",
    "\n",
    "test = 0\n",
    "\n",
    "for _ in range(100):\n",
    "\n",
    "    start = time.time()\n",
    "\n",
    "    ai_code.board_generation()\n",
    "    ai_code.board_generation()\n",
    "    ai_code.board_generation()\n",
    "    ai_code.board_generation()\n",
    "    ai_code.board_generation()\n",
    "    ai_code.board_generation()\n",
    "    ai_code.board_generation()\n",
    "    ai_code.board_generation()\n",
    "    ai_code.board_generation()\n",
    "    ai_code.board_generation()\n",
    "\n",
    "    test += time.time() - start\n",
    "\n",
    "print(test)\n"
   ]
  },
  {
   "cell_type": "markdown",
   "metadata": {},
   "source": [
    "Results:\n",
    "\n",
    "    1 board:\n",
    "        0.01520538330078125\n",
    "        0.015534162521362305\n",
    "        0.015062332153320312\n",
    "        0.015755653381347656\n",
    "        0.014878034591674805\n",
    "        0.01638054847717285\n",
    "    2 boards:\n",
    "        0.02589130401611328\n",
    "        0.02821946144104004\n",
    "        0.02628302574157715\n",
    "        0.029273033142089844\n",
    "        0.02648138999938965\n",
    "        0.03173327445983887\n",
    "    10 boards:\n",
    "        0.1285572052001953\n",
    "        0.13258671760559082\n",
    "        0.1498093605041504\n",
    "        0.1460113525390625\n",
    "        0.14448976516723633\n",
    "    100 boards:\n",
    "        1.3102154731750488\n",
    "        1.3037786483764648\n",
    "        1.3114650249481201\n",
    "        1.2840576171875\n",
    "        1.3036134243011475\n",
    "        1.300112247467041"
   ]
  },
  {
   "cell_type": "code",
   "execution_count": 106,
   "metadata": {},
   "outputs": [
    {
     "name": "stdout",
     "output_type": "stream",
     "text": [
      "Initial: 0.028400897979736328\n",
      "AI:      0.028868675231933594\n"
     ]
    }
   ],
   "source": [
    "import initial_solution\n",
    "import ai_code\n",
    "\n",
    "\n",
    "test_initial = 0\n",
    "test_ai = 0\n",
    "\n",
    "for _ in range(100):\n",
    "\n",
    "    start = time.time()\n",
    "\n",
    "    initial_solution.winning_combination([['w', 'g', 'g', 'w'], [0, 0, 0, 0], [0, 'g', 'w', 'g'], \\\n",
    "['g', 'w', 'w', 'w'], [0, 0, 0, 'g'], [0, 0, 0, 0], [0, 0, 0, 'w'], [0, 0, 0, 0], \\\n",
    "[0, 0, 'w', 'w'], ['w', 'g', 'w', 'g'], [0, 0, 0, 'w'], [0, 0, 0, 'g'], [0, 0, 'g', 'w'], \\\n",
    "[0, 0, 0, 'w'], [0, 0, 'g', 'g'], [0, 0, 0, 'g']])\n",
    "\n",
    "    test_initial += time.time() - start\n",
    "\n",
    "    start = time.time()\n",
    "\n",
    "    ai_code.winning_combination([['w', 'g', 'g', 'w'], [0, 0, 0, 0], [0, 'g', 'w', 'g'], \\\n",
    "['g', 'w', 'w', 'w'], [0, 0, 0, 'g'], [0, 0, 0, 0], [0, 0, 0, 'w'], [0, 0, 0, 0], \\\n",
    "[0, 0, 'w', 'w'], ['w', 'g', 'w', 'g'], [0, 0, 0, 'w'], [0, 0, 0, 'g'], [0, 0, 'g', 'w'], \\\n",
    "[0, 0, 0, 'w'], [0, 0, 'g', 'g'], [0, 0, 0, 'g']])\n",
    "\n",
    "    test_ai += time.time() - start\n",
    "\n",
    "print(\"Initial: \" + str(test_initial))\n",
    "print(\"AI:      \" + str(test_ai))\n",
    "\n"
   ]
  },
  {
   "cell_type": "markdown",
   "metadata": {},
   "source": [
    "Results:\n",
    "\n",
    "1)    winning_combination([[0, 0, 0, 'w'], [0, 'g', 'g', 'w'], [0, 0, 'w', 'w'], \\\n",
    "    [0, 'g', 'w', 'w'], [0, 0, 0, 'g'], [0, 0, 0, 0], [0, 0, 'w', 'g'], [0, 0, 0, 'g'], [0, 0, 0, 0], \\\n",
    "    [0, 'w', 'w', 'w'], ['g', 'w', 'w', 'g'], [0, 0, 0, 0], [0, 0, 0, 'g'], [0, 0, 'g', 'g'], \\\n",
    "    ['g', 'g', 'w', 'w'], [0, 0, 'g', 'w']])\n",
    "\n",
    "    Initial: 0.03606820106506348\n",
    "    AI:      0.035883188247680664\n",
    "\n",
    "2)    winning_combination([['w', 'w', 'w', 'w'], [0, 'g', 'g', 'w'], [0, 0, 'w', 'w'], \\\n",
    "[0, 'g', 'w', 'w'], [0, 0, 0, 'g'], [0, 0, 0, 0], [0, 0, 'w', 'g'], [0, 0, 0, 'g'], [0, 0, 0, 0], \\\n",
    "[0, 'w', 'w', 'w'], ['g', 'w', 'w', 'g'], [0, 0, 0, 0], [0, 0, 0, 'g'], [0, 0, 'g', 'g'], \\\n",
    "['g', 'g', 'w', 'w'], [0, 0, 'g', 'w']])\n",
    "\n",
    "    Initial: 0.033194541931152344\n",
    "    AI:      0.033440351486206055\n",
    "\n",
    "3)    winning_combination([['w', 'g', 'g', 'w'], [0, 0, 0, 0], [0, 'g', 'w', 'g'], \\\n",
    "['g', 'w', 'w', 'w'], [0, 0, 0, 'g'], [0, 0, 0, 0], [0, 0, 0, 'w'], [0, 0, 0, 0], \\\n",
    "[0, 0, 'w', 'w'], ['w', 'g', 'w', 'g'], [0, 0, 0, 'w'], [0, 0, 0, 'g'], [0, 0, 'g', 'w'], \\\n",
    "[0, 0, 0, 'w'], [0, 0, 'g', 'g'], [0, 0, 0, 'g']])\n",
    "\n",
    "    (False)\n",
    "\n",
    "    Initial: 0.02755260467529297\n",
    "    AI:      0.027727842330932617"
   ]
  },
  {
   "cell_type": "markdown",
   "metadata": {},
   "source": [
    "# Memory measurement"
   ]
  },
  {
   "cell_type": "markdown",
   "metadata": {},
   "source": [
    "Initial solution"
   ]
  },
  {
   "cell_type": "code",
   "execution_count": 117,
   "metadata": {},
   "outputs": [
    {
     "name": "stdout",
     "output_type": "stream",
     "text": [
      "(3266, 14329)\n"
     ]
    }
   ],
   "source": [
    "import initial_solution\n",
    "\n",
    "tracemalloc.start()\n",
    "\n",
    "for _ in range(100):\n",
    "\n",
    "    initial_solution.board_generation()\n",
    "\n",
    "print(tracemalloc.get_traced_memory())\n",
    "tracemalloc.stop()\n"
   ]
  },
  {
   "cell_type": "markdown",
   "metadata": {},
   "source": [
    "Results:\n",
    "\n",
    "    For 1:\n",
    "    (2630, 13963)\n",
    "    (2649, 13963)\n",
    "    (1951, 13963)\n",
    "    (2649, 13963)\n",
    "    (2649, 13963)\n",
    "    (2449, 13963)\n",
    "    (3266, 14329)"
   ]
  },
  {
   "cell_type": "markdown",
   "metadata": {},
   "source": [
    "AI solution"
   ]
  },
  {
   "cell_type": "code",
   "execution_count": 123,
   "metadata": {},
   "outputs": [
    {
     "name": "stdout",
     "output_type": "stream",
     "text": [
      "(2753, 13963)\n"
     ]
    }
   ],
   "source": [
    "import ai_code\n",
    "\n",
    "tracemalloc.start()\n",
    "\n",
    "for _ in range(100):\n",
    "\n",
    "    ai_code.board_generation()\n",
    "\n",
    "print(tracemalloc.get_traced_memory())\n",
    "tracemalloc.stop()"
   ]
  },
  {
   "cell_type": "markdown",
   "metadata": {},
   "source": [
    "Results:\n",
    "\n",
    "    For 1:\n",
    "    (2937, 14000)\n",
    "    (2704, 13963)\n",
    "    (1951, 13963)\n",
    "    (2992, 14055)\n",
    "    (2504, 13963)\n",
    "    (2753, 13963)"
   ]
  },
  {
   "cell_type": "code",
   "execution_count": 157,
   "metadata": {},
   "outputs": [
    {
     "name": "stdout",
     "output_type": "stream",
     "text": [
      "Initial: \n",
      "(3747, 17454)\n",
      "AI: \n",
      "(2129, 17454)\n"
     ]
    }
   ],
   "source": [
    "import initial_solution\n",
    "\n",
    "tracemalloc.start()\n",
    "\n",
    "for _ in range(100):\n",
    "\n",
    "    initial_solution.winning_combination([['w', 'g', 'g', 'w'], [0, 0, 0, 0], [0, 'g', 'w', 'g'], \\\n",
    "['g', 'w', 'w', 'w'], [0, 0, 0, 'g'], [0, 0, 0, 0], [0, 0, 0, 'w'], [0, 0, 0, 0], \\\n",
    "[0, 0, 'w', 'w'], ['w', 'g', 'w', 'g'], [0, 0, 0, 'w'], [0, 0, 0, 'g'], [0, 0, 'g', 'w'], \\\n",
    "[0, 0, 0, 'w'], [0, 0, 'g', 'g'], [0, 0, 0, 'g']])\n",
    "\n",
    "print(\"Initial: \")\n",
    "print(tracemalloc.get_traced_memory())\n",
    "tracemalloc.stop()\n",
    "\n",
    "import ai_code\n",
    "\n",
    "tracemalloc.start()\n",
    "\n",
    "for _ in range(100):\n",
    "\n",
    "    ai_code.winning_combination([['w', 'g', 'g', 'w'], [0, 0, 0, 0], [0, 'g', 'w', 'g'], \\\n",
    "['g', 'w', 'w', 'w'], [0, 0, 0, 'g'], [0, 0, 0, 0], [0, 0, 0, 'w'], [0, 0, 0, 0], \\\n",
    "[0, 0, 'w', 'w'], ['w', 'g', 'w', 'g'], [0, 0, 0, 'w'], [0, 0, 0, 'g'], [0, 0, 'g', 'w'], \\\n",
    "[0, 0, 0, 'w'], [0, 0, 'g', 'g'], [0, 0, 0, 'g']])\n",
    "\n",
    "print(\"AI: \")\n",
    "print(tracemalloc.get_traced_memory())\n",
    "tracemalloc.stop()"
   ]
  },
  {
   "cell_type": "markdown",
   "metadata": {},
   "source": [
    "Results:\n",
    "\n",
    "1)    winning_combination([[0, 0, 0, 'w'], [0, 'g', 'g', 'w'], [0, 0, 'w', 'w'], \\\n",
    "    [0, 'g', 'w', 'w'], [0, 0, 0, 'g'], [0, 0, 0, 0], [0, 0, 'w', 'g'], [0, 0, 0, 'g'], [0, 0, 0, 0], \\\n",
    "    [0, 'w', 'w', 'w'], ['g', 'w', 'w', 'g'], [0, 0, 0, 0], [0, 0, 0, 'g'], [0, 0, 'g', 'g'], \\\n",
    "    ['g', 'g', 'w', 'w'], [0, 0, 'g', 'w']])\n",
    "\n",
    "    Initial: \n",
    "    (4065, 18222)\n",
    "    AI: \n",
    "    (1460, 18222)\n",
    "\n",
    "2)    winning_combination([['w', 'w', 'w', 'w'], [0, 'g', 'g', 'w'], [0, 0, 'w', 'w'], \\\n",
    "    [0, 'g', 'w', 'w'], [0, 0, 0, 'g'], [0, 0, 0, 0], [0, 0, 'w', 'g'], [0, 0, 0, 'g'], [0, 0, 0, 0], \\\n",
    "    [0, 'w', 'w', 'w'], ['g', 'w', 'w', 'g'], [0, 0, 0, 0], [0, 0, 0, 'g'], [0, 0, 'g', 'g'], \\\n",
    "    ['g', 'g', 'w', 'w'], [0, 0, 'g', 'w']])\n",
    "\n",
    "    Initial: \n",
    "    (3884, 18225)\n",
    "    AI: \n",
    "    (1515, 18225)\n",
    "\n",
    "3)    winning_combination([['w', 'g', 'g', 'w'], [0, 0, 0, 0], [0, 'g', 'w', 'g'], \\\n",
    "    ['g', 'w', 'w', 'w'], [0, 0, 0, 'g'], [0, 0, 0, 0], [0, 0, 0, 'w'], [0, 0, 0, 0], \\\n",
    "    [0, 0, 'w', 'w'], ['w', 'g', 'w', 'g'], [0, 0, 0, 'w'], [0, 0, 0, 'g'], [0, 0, 'g', 'w'], \\\n",
    "    [0, 0, 0, 'w'], [0, 0, 'g', 'g'], [0, 0, 0, 'g']])\n",
    "\n",
    "    (False)\n",
    "\n",
    "    Initial: \n",
    "    (3747, 17454)\n",
    "    AI: \n",
    "    (2129, 17454)"
   ]
  },
  {
   "cell_type": "markdown",
   "metadata": {},
   "source": [
    "# Висновок"
   ]
  },
  {
   "cell_type": "markdown",
   "metadata": {},
   "source": [
    "BlackBox впринципі доволі добре оптимізував гру Eternas. В цілому він змінив небагато, в функції board_generation взагалі зробив тільки 1 табуляцію рядка, а в winning_combination забрав пару змінних і розставив іфки в зручнішому порядку. І це, як показують результати аналізу, доволі добре пришвидшило швидкість виконання завдань і займає менше місця.\n",
    "Оскільки у грі використовується модуль random то для точніших обчислень була потрібна відповідно доволі велика вибірка. Аналіз показав, що, хоч і швидкість була доволі однакова, частіше іменно функції підправлені штучним інтелектом були швидші (більшість запусків показували таке). Щодо використання памяті, то в board_generation все як зажди було рандомно і результати, відповідно, майже одинакові. А от в winning_combination ші показує свої правки набагато краще. Пам'ять його функція займає чуть не завжди в 2 рази менше.\n",
    "З PEP8 проблем ніяких не бачив, може тому що його зміни були не глобальні.\n",
    "Але він не згенерив то що я просив з 1 разу, хоя і вказав і умову і розв'язок і конкретно розписав що від нього хочу. Як і інколи чатгпт, він жостко тупив, поки я нарешті промптами я його не спрямував у відповідне русло."
   ]
  }
 ],
 "metadata": {
  "kernelspec": {
   "display_name": "Python 3",
   "language": "python",
   "name": "python3"
  },
  "language_info": {
   "codemirror_mode": {
    "name": "ipython",
    "version": 3
   },
   "file_extension": ".py",
   "mimetype": "text/x-python",
   "name": "python",
   "nbconvert_exporter": "python",
   "pygments_lexer": "ipython3",
   "version": "3.11.5"
  }
 },
 "nbformat": 4,
 "nbformat_minor": 2
}
