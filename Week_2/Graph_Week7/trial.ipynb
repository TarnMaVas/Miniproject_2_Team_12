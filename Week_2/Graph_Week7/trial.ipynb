{
 "cells": [
  {
   "cell_type": "code",
   "execution_count": 2,
   "metadata": {},
   "outputs": [],
   "source": [
    "import time\n",
    "import tracemalloc"
   ]
  },
  {
   "cell_type": "markdown",
   "metadata": {},
   "source": [
    "# Time Measurement"
   ]
  },
  {
   "cell_type": "markdown",
   "metadata": {},
   "source": [
    "Initial solution"
   ]
  },
  {
   "cell_type": "code",
   "execution_count": 9,
   "metadata": {},
   "outputs": [
    {
     "name": "stdout",
     "output_type": "stream",
     "text": [
      "Small graph: 0.1699833869934082\n",
      "Big graph: 8.990285873413086\n"
     ]
    }
   ],
   "source": [
    "import initial_solution\n",
    "\n",
    "small_test = 0\n",
    "\n",
    "for _ in range(100):\n",
    "\n",
    "    start = time.time()\n",
    "\n",
    "    graph = initial_solution.get_graph_from_file('small_graph.txt')\n",
    "    graph = initial_solution.to_edge_dict(graph)\n",
    "    initial_solution.is_edge_in_graph(graph, (1, 7))\n",
    "    graph = initial_solution.add_edge(graph, (1, 7))\n",
    "    graph = initial_solution.del_edge(graph, (1, 7))\n",
    "    graph = initial_solution.add_node(graph, 7)\n",
    "    graph = initial_solution.del_node(graph, 7)\n",
    "    initial_solution.convert_to_dot('small_graph.txt')\n",
    "\n",
    "    small_test += time.time() - start\n",
    "\n",
    "print('Small graph:', small_test)\n",
    "\n",
    "big_test = 0\n",
    "\n",
    "for _ in range(100):\n",
    "\n",
    "    start = time.time()\n",
    "\n",
    "    graph = initial_solution.get_graph_from_file('big_graph.txt')\n",
    "    graph = initial_solution.to_edge_dict(graph)\n",
    "    initial_solution.is_edge_in_graph(graph, (1, 7))\n",
    "    graph = initial_solution.add_edge(graph, (1, 7))\n",
    "    graph = initial_solution.del_edge(graph, (1, 7))\n",
    "    graph = initial_solution.add_node(graph, 7)\n",
    "    graph = initial_solution.del_node(graph, 7)\n",
    "    initial_solution.convert_to_dot('big_graph.txt')\n",
    "\n",
    "    big_test += time.time() - start\n",
    "\n",
    "print('Big graph:', big_test)"
   ]
  },
  {
   "cell_type": "markdown",
   "metadata": {},
   "source": [
    "AI solution"
   ]
  },
  {
   "cell_type": "code",
   "execution_count": 10,
   "metadata": {},
   "outputs": [
    {
     "name": "stdout",
     "output_type": "stream",
     "text": [
      "Small graph: 0.16204237937927246\n",
      "Big graph: 1.2181828022003174\n"
     ]
    }
   ],
   "source": [
    "import ai_code\n",
    "\n",
    "small_test = 0\n",
    "\n",
    "for _ in range(100):\n",
    "\n",
    "    start = time.time()\n",
    "\n",
    "    graph = ai_code.get_graph_from_file('small_graph.txt')\n",
    "    graph = ai_code.to_edge_dict(graph)\n",
    "    ai_code.is_edge_in_graph(graph, (1, 7))\n",
    "    graph = ai_code.add_edge(graph, (1, 7))\n",
    "    graph = ai_code.del_edge(graph, (1, 7))\n",
    "    graph = ai_code.add_node(graph, 7)\n",
    "    graph = ai_code.del_node(graph, 7)\n",
    "    ai_code.convert_to_dot('small_graph.txt')\n",
    "\n",
    "    small_test += time.time() - start\n",
    "\n",
    "print('Small graph:', small_test)\n",
    "\n",
    "big_test = 0\n",
    "\n",
    "for _ in range(100):\n",
    "\n",
    "    start = time.time()\n",
    "\n",
    "    graph = ai_code.get_graph_from_file('big_graph.txt')\n",
    "    graph = ai_code.to_edge_dict(graph)\n",
    "    ai_code.is_edge_in_graph(graph, (1, 7))\n",
    "    graph = ai_code.add_edge(graph, (1, 7))\n",
    "    graph = ai_code.del_edge(graph, (1, 7))\n",
    "    graph = ai_code.add_node(graph, 7)\n",
    "    graph = ai_code.del_node(graph, 7)\n",
    "    ai_code.convert_to_dot('big_graph.txt')\n",
    "\n",
    "    big_test += time.time() - start\n",
    "\n",
    "print('Big graph:', big_test)"
   ]
  },
  {
   "cell_type": "markdown",
   "metadata": {},
   "source": [
    "# Memory measurement"
   ]
  },
  {
   "cell_type": "markdown",
   "metadata": {},
   "source": [
    "Initial solution"
   ]
  },
  {
   "cell_type": "code",
   "execution_count": 13,
   "metadata": {},
   "outputs": [
    {
     "name": "stdout",
     "output_type": "stream",
     "text": [
      "(160861, 439880)\n"
     ]
    }
   ],
   "source": [
    "tracemalloc.start()\n",
    "\n",
    "for _ in range(100):\n",
    "\n",
    "    graph = initial_solution.get_graph_from_file('big_graph.txt')\n",
    "    graph = initial_solution.to_edge_dict(graph)\n",
    "    initial_solution.is_edge_in_graph(graph, (1, 7))\n",
    "    graph = initial_solution.add_edge(graph, (1, 7))\n",
    "    graph = initial_solution.del_edge(graph, (1, 7))\n",
    "    graph = initial_solution.add_node(graph, 7)\n",
    "    graph = initial_solution.del_node(graph, 7)\n",
    "    initial_solution.convert_to_dot('big_graph.txt')\n",
    "\n",
    "print(tracemalloc.get_traced_memory())\n",
    "tracemalloc.stop()"
   ]
  },
  {
   "cell_type": "markdown",
   "metadata": {},
   "source": [
    "AI solution"
   ]
  },
  {
   "cell_type": "code",
   "execution_count": 14,
   "metadata": {},
   "outputs": [
    {
     "name": "stdout",
     "output_type": "stream",
     "text": [
      "(267851, 651526)\n"
     ]
    }
   ],
   "source": [
    "tracemalloc.start()\n",
    "\n",
    "for _ in range(100):\n",
    "\n",
    "    graph = ai_code.get_graph_from_file('big_graph.txt')\n",
    "    graph = ai_code.to_edge_dict(graph)\n",
    "    ai_code.is_edge_in_graph(graph, (1, 7))\n",
    "    graph = ai_code.add_edge(graph, (1, 7))\n",
    "    graph = ai_code.del_edge(graph, (1, 7))\n",
    "    graph = ai_code.add_node(graph, 7)\n",
    "    graph = ai_code.del_node(graph, 7)\n",
    "    ai_code.convert_to_dot('big_graph.txt')\n",
    "\n",
    "print(tracemalloc.get_traced_memory())\n",
    "tracemalloc.stop()"
   ]
  },
  {
   "cell_type": "markdown",
   "metadata": {},
   "source": [
    "# Висновки"
   ]
  },
  {
   "cell_type": "markdown",
   "metadata": {},
   "source": [
    "BlackBox справився з задачею частково. З цього експерименту стало зрозуміло, що ШІ погано справляється з оптимізцією програми, що складається з багатьох функцій. Будь-які спроби використати його для оптимізації цілого файлу призводили до того, що половина функцій ламалася, а допомагати йому їх правити було ще важче. Дещо кращим був результат почергової оптимізації кожної функції, проте в цього підходу теж є свої недоліки: для нього, в ідеалі, функція має бути чистою, адже якщо вона використовує, наприклад, якісь інші функції модуля, то часто BlackBox неправильно їх розуміє й відповідно ламає код. В результаті ШІ написав код, що має набагато більшу швидкодію й виправив незначні стилістичні помилки. З іншого боку, його підхід забирає помітно більше пам'яті, ніж оригінальний код. Інші висновки про промпти збігаються з попередніми експериментами."
   ]
  }
 ],
 "metadata": {
  "kernelspec": {
   "display_name": "Python 3",
   "language": "python",
   "name": "python3"
  },
  "language_info": {
   "codemirror_mode": {
    "name": "ipython",
    "version": 3
   },
   "file_extension": ".py",
   "mimetype": "text/x-python",
   "name": "python",
   "nbconvert_exporter": "python",
   "pygments_lexer": "ipython3",
   "version": "3.11.5"
  }
 },
 "nbformat": 4,
 "nbformat_minor": 2
}
