{
 "cells": [
  {
   "cell_type": "code",
   "execution_count": 1,
   "metadata": {},
   "outputs": [],
   "source": [
    "import time\n",
    "import tracemalloc"
   ]
  },
  {
   "cell_type": "markdown",
   "metadata": {},
   "source": [
    "# Time Measurement"
   ]
  },
  {
   "cell_type": "markdown",
   "metadata": {},
   "source": [
    "Initial solution"
   ]
  },
  {
   "cell_type": "code",
   "execution_count": 30,
   "metadata": {},
   "outputs": [
    {
     "name": "stdout",
     "output_type": "stream",
     "text": [
      "0.006001710891723633\n"
     ]
    }
   ],
   "source": [
    "\n",
    "import initial_solution\n",
    "\n",
    "test = 0\n",
    "\n",
    "for _ in range(100):\n",
    "\n",
    "    start = time.time()\n",
    "\n",
    "    initial_solution.calculate_expression('Скільки дерев у Стрийському парку?')\n",
    "    initial_solution.calculate_expression('Скільки буде 12 помножити на 3 плюс -6?')\n",
    "    initial_solution.calculate_expression('Скільки буде 5 помножити на 8 поділити на 2 мінус 5?')\n",
    "    initial_solution.calculate_expression('Скільки буде 5 поділити на 0?')\n",
    "    initial_solution.calculate_expression('Скільки буде 8?')\n",
    "    initial_solution.calculate_expression('3 плюс 7?')\n",
    "    initial_solution.calculate_expression('Скільки буде 3335 плюс 7441 мінус 5432 помножити на 1024 додати 12732 поділити на 111 помножити на 17?')\n",
    "    test += time.time() - start\n",
    "\n",
    "print(test)\n"
   ]
  },
  {
   "cell_type": "markdown",
   "metadata": {},
   "source": [
    "AI solution"
   ]
  },
  {
   "cell_type": "code",
   "execution_count": 53,
   "metadata": {},
   "outputs": [
    {
     "name": "stdout",
     "output_type": "stream",
     "text": [
      "0.0040013790130615234\n"
     ]
    }
   ],
   "source": [
    "import ai_code\n",
    "\n",
    "test = 0\n",
    "\n",
    "for _ in range(100):\n",
    "\n",
    "    start = time.time()\n",
    "\n",
    "    ai_code.calculate_expression('Скільки дерев у Стрийському парку?')\n",
    "    ai_code.calculate_expression('Скільки буде 12 помножити на 3 плюс -6?')\n",
    "    ai_code.calculate_expression('Скільки буде 5 помножити на 8 поділити на 2 мінус 5?')\n",
    "    ai_code.calculate_expression('Скільки буде 5 поділити на 0?')\n",
    "    ai_code.calculate_expression('Скільки буде 8?')\n",
    "    ai_code.calculate_expression('3 плюс 7?')\n",
    "    ai_code.calculate_expression('Скільки буде 3335 плюс 7441 мінус 5432 помножити на 1024 додати 12732 поділити на 111 помножити на 17?')\n",
    "    test += time.time() - start\n",
    "\n",
    "print(test)\n"
   ]
  },
  {
   "cell_type": "markdown",
   "metadata": {},
   "source": [
    "# Memory measurement"
   ]
  },
  {
   "cell_type": "markdown",
   "metadata": {},
   "source": [
    "Initial solution"
   ]
  },
  {
   "cell_type": "code",
   "execution_count": 65,
   "metadata": {},
   "outputs": [
    {
     "name": "stdout",
     "output_type": "stream",
     "text": [
      "(1508, 17070)\n"
     ]
    }
   ],
   "source": [
    "import initial_solution\n",
    "\n",
    "tracemalloc.start()\n",
    "\n",
    "for _ in range(100):\n",
    "\n",
    "    initial_solution.calculate_expression('Скільки дерев у Стрийському парку?')\n",
    "    initial_solution.calculate_expression('Скільки буде 12 помножити на 3 плюс -6?')\n",
    "    initial_solution.calculate_expression('Скільки буде 5 помножити на 8 поділити на 2 мінус 5?')\n",
    "    initial_solution.calculate_expression('Скільки буде 5 поділити на 0?')\n",
    "    initial_solution.calculate_expression('Скільки буде 8?')\n",
    "    initial_solution.calculate_expression('3 плюс 7?')\n",
    "    initial_solution.calculate_expression('Скільки буде 3335 плюс 7441 мінус 5432 помножити на 1024 додати 12732 поділити на 111 помножити на 17?')\n",
    "\n",
    "print(tracemalloc.get_traced_memory())\n",
    "tracemalloc.stop()\n"
   ]
  },
  {
   "cell_type": "markdown",
   "metadata": {},
   "source": [
    "AI solution"
   ]
  },
  {
   "cell_type": "code",
   "execution_count": 67,
   "metadata": {},
   "outputs": [
    {
     "name": "stdout",
     "output_type": "stream",
     "text": [
      "(1040, 17058)\n"
     ]
    }
   ],
   "source": [
    "import ai_code\n",
    "\n",
    "tracemalloc.start()\n",
    "\n",
    "for _ in range(100):\n",
    "\n",
    "    ai_code.calculate_expression('Скільки дерев у Стрийському парку?')\n",
    "    ai_code.calculate_expression('Скільки буде 12 помножити на 3 плюс -6?')\n",
    "    ai_code.calculate_expression('Скільки буде 5 помножити на 8 поділити на 2 мінус 5?')\n",
    "    ai_code.calculate_expression('Скільки буде 5 поділити на 0?')\n",
    "    ai_code.calculate_expression('Скільки буде 8?')\n",
    "    ai_code.calculate_expression('3 плюс 7?')\n",
    "    ai_code.calculate_expression('Скільки буде 3335 плюс 7441 мінус 5432 помножити на 1024 додати 12732 поділити на 111 помножити на 17?')\n",
    "\n",
    "print(tracemalloc.get_traced_memory())\n",
    "tracemalloc.stop()"
   ]
  },
  {
   "cell_type": "markdown",
   "metadata": {},
   "source": [
    "# Висновок"
   ]
  },
  {
   "cell_type": "markdown",
   "metadata": {},
   "source": [
    "З завданням BlackBox загалом справився, хоч і далеко не зразу. Спочатку він дуже довго не міг обрати дієву стратегію оптимізації, яка б не ламала код, аби виправити це мені прийшлося дати йому підказку. Тоді, після декількох ітерацій дебагу, він зміг переписати код через стек, що суттєво покращило читабельність, дещо збільшило швидкодію (не надто суттєво, та при довших інпутах різниця, ймовірно, збільшиться) та мінімально зменшило використання пам'яті.\n",
    "\n",
    "Загальні коментарі: Схоже, Black Box не повністю розуміє концепту \"читабельності\" коду й правил pep8, під час роботи з ними потрібно було постійно нагадувати про базові речі, як, наприклад, довжина рядків. Загалом покращити вигляд він може, але майже завжди лишаються декілька дивних помилок. Щодо промптів, то, якщо в задачі є конкретні вимоги (формат вводу / виводу, як на cms, використання певних структур даних, обмеження по певних бібліотеках...), про це обов'язково варто вказувати в запиті, адже ШІ схильний ігнорувати й міняти ці \"дрібниці\" під час оптимізації. Також шанси на успіх сильно підвищуються, якщо сказати йому, яку саме стратегію оптимізації варто використовувати."
   ]
  }
 ],
 "metadata": {
  "kernelspec": {
   "display_name": "Python 3",
   "language": "python",
   "name": "python3"
  },
  "language_info": {
   "codemirror_mode": {
    "name": "ipython",
    "version": 3
   },
   "file_extension": ".py",
   "mimetype": "text/x-python",
   "name": "python",
   "nbconvert_exporter": "python",
   "pygments_lexer": "ipython3",
   "version": "3.11.5"
  }
 },
 "nbformat": 4,
 "nbformat_minor": 2
}
